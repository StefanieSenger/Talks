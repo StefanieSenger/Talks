{
 "cells": [
  {
   "cell_type": "markdown",
   "metadata": {},
   "source": [
    "## How do YOU start contributing to Open Source?\n",
    "\n",
    "### Abstract: </br>\n",
    "\n",
    "In this talk, we'll explore what it needs to start contributing to open source projects as a beginner. We'll discuss the mindset required for successful participation, focusing on qualities like collaboration, curiosity, and a willingness to learn. We'll cover essential pre-requisites such as understanding version control systems, issue tracking, and the basics of code review. Finally, we'll provide practical advice on where to begin your open source journey, including tips for finding beginner-friendly projects and issues and leveraging online resources and communities. If you're looking to take your first steps into the world of open source contribution, don't miss out on this."
   ]
  },
  {
   "cell_type": "markdown",
   "metadata": {},
   "source": [
    "### What mindset do you come with?\n",
    "You come as a learner/explorer.\n",
    "\n",
    "Be prepared to do a lot of research and invest time.\n",
    "  - You try to find out what this issue is about.\n",
    "  - You can and should ask questions, but don't expect other contributors to guide you through the process end to end.\n",
    "\n",
    "Your contribution is a proposal. It will be discussed.\n",
    "  - Other than to work it also needs to fit some other design goals, that you might not be aware of when you start.\n",
    "  - You might me asked to make changes to your contribution before it's merged."
   ]
  },
  {
   "cell_type": "markdown",
   "metadata": {},
   "source": [
    "### What to know before you start?\n",
    "If thinking about this holds you back the answer would be: nothing. Contributing to open source projects is a learning process anyways and wherever you start, this is where you are. You can definitely start with whatever you know now and find out where you will get stuck, then take a step back and start learning about this before you continue or try another issue first.\n",
    "\n",
    "Expectation management:\n",
    "- Finding a project and an issue to work on: a few hours\n",
    "- Setting up the project on your computer: a few hours\n",
    "- contributing your first simple issue: a few hours to a day\n",
    "- getting your first issue reviewed and merged: several days to weeks"
   ]
  },
  {
   "cell_type": "markdown",
   "metadata": {},
   "source": [
    "#### Things you want to get into\n",
    "- create a GitHub account\n",
    "  - GitHub's [tutorial](https://docs.github.com/en/get-started/onboarding/getting-started-with-your-github-account) on creating an account\n",
    "- virtual environments\n",
    "  - conda\n",
    "  - pipenv\n",
    "  - pyenv\n",
    "- learn git and practice it everywhere\n",
    "  - great game to learn git: [OH MY GIT!](https://ohmygit.org/)\n",
    "- packaging\n",
    "  - great LinkedIn Learning course you can access for free: [Create an Open Source Project in Python](https://www.linkedin.com/learning/create-an-open-source-project-in-python/create-an-open-source-project-in-python?u=72605090)\n",
    "- pytest"
   ]
  },
  {
   "cell_type": "markdown",
   "metadata": {},
   "source": [
    "#### Sketch of general workflow\n",
    "\n",
    "![fork_and_clone](images/fork-and-clone.jpeg)\n",
    "source: https://happygitwithr.com/fork-and-clone.html\n",
    "\n",
    "1. create a fork of your open source project on your GitHub\n",
    "2. clone the fork to have it locally\n",
    "3. make a new branch for your contribution\n",
    "4. push your commits to your branch\n",
    "    - if this takes more than a week, you might want to update your branch with the current status of the dev repo by pulling their \"main\" branch into your branch\n",
    "5. make a Pull Request (PR)\n",
    "    - potentially during the review process, you will be asked to push more changes to your branch\n",
    "6. be merged\n"
   ]
  },
  {
   "cell_type": "markdown",
   "metadata": {},
   "source": [
    "![fork_and_clone](images/pull_request_model2.png)\n",
    "source: https://asoplata.com/publications/talks/20171117-git-intro/slides#/fork-and-pr-tutorial-2\n",
    "\n",
    "![fork_and_clone](images/pull_request_model.jpeg)\n",
    "source: https://asoplata.com/publications/talks/20171117-git-intro/slides#/fork-and-pull-request-model-again\n"
   ]
  },
  {
   "cell_type": "markdown",
   "metadata": {},
   "source": [
    "### Where do you start?\n",
    "1. Finding an issue\n",
    "2. Setting up the project\n",
    "3. What to do when you get stuck?\n"
   ]
  },
  {
   "cell_type": "markdown",
   "metadata": {},
   "source": [
    "#### Finding an issue\n",
    "- we want to find issues that have been discussed before or that provide examples\n",
    "\n",
    "- find issues by label: `good first issue`, `easy`, `meta-issue`, `sprint`\n",
    "- sort by \"recently updated\", look for many replies to find meta-issues\n",
    "\n",
    "- you can also work on a stalled issue (but heat up the discussion before)\n",
    "\n",
    "- you can make an issue (and maybe later solve it)\n",
    "  - (for pros:) you find an inconsistency when using a tool this library provides\n",
    "  - (for beginners:) you find the documentation confusing and want to improve it\n",
    "  - wait for a maintainer's assessment (triage) first\n",
    "\n",
    "- smaller projects\n",
    "  - contribute documentation or examples\n",
    "  - contribute tests\n",
    "\n",
    "- very concrete suggestions:\n",
    "  - scikit-learn [example links](https://github.com/scikit-learn/scikit-learn/issues/26927)\n",
    "    - meta-issue: you can see how others did it and learn from their PRs\n",
    "  - write your own [jupyter widget](https://github.com/jupyter-widgets)\n",
    "    - creativity\n",
    "    - invent something useful\n",
    "    - practice your OOP skills\n",
    "    - show off something visual"
   ]
  },
  {
   "cell_type": "markdown",
   "metadata": {},
   "source": [
    "#### Setting up the project\n",
    "- contributing guide\n",
    "- build and re-build"
   ]
  },
  {
   "cell_type": "markdown",
   "metadata": {},
   "source": [
    "#### What to do when you get stuck\n",
    "- reach out to the community\n",
    "- describe your problem by showing your code and error messages\n",
    "- if in doubt: make a draft PR"
   ]
  },
  {
   "cell_type": "markdown",
   "metadata": {},
   "source": [
    "Yet to do:\n",
    "- create slides to introduce myself and probabl"
   ]
  }
 ],
 "metadata": {
  "language_info": {
   "name": "python"
  }
 },
 "nbformat": 4,
 "nbformat_minor": 2
}
