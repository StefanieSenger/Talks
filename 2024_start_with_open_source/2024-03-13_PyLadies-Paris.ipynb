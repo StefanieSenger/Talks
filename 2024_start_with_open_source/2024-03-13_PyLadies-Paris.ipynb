{
 "cells": [
  {
   "cell_type": "markdown",
   "metadata": {
    "slideshow": {
     "slide_type": "slide"
    }
   },
   "source": [
    "## How do YOU start contributing to Open Source?"
   ]
  },
  {
   "cell_type": "markdown",
   "metadata": {
    "slideshow": {
     "slide_type": "skip"
    }
   },
   "source": [
    "### Abstract:\n",
    "\n",
    "In this talk, we'll explore what it needs to start contributing to open source projects as a beginner. We'll discuss the mindset required for successful participation, focusing on qualities like collaboration, curiosity, and a willingness to learn. We'll cover essential pre-requisites such as understanding version control systems, issue tracking, and the basics of code review. Finally, we'll provide practical advice on where to begin your open source journey, including tips for finding beginner-friendly projects and issues and leveraging online resources and communities. If you're looking to take your first steps into the world of open source contribution, don't miss out on this."
   ]
  },
  {
   "cell_type": "markdown",
   "metadata": {
    "slideshow": {
     "slide_type": "slide"
    }
   },
   "source": [
    "### About me\n",
    "#### Stefanie Sabine Senger\n",
    "\n",
    "- Wikipedia: Writer, Mentor, WikiWoman, 2011-2014\n",
    "- Historian: PhD on Solidarity Movements, 2021\n",
    "- Data Science Bootcamp: LeWagon along with a crazy amount of courses from 2021\n",
    "- scikit-learn internship, 2023\n",
    "- muffintech: Data Scientist, 2023\n",
    "- probabl: Open Source Developer working mainly on scikit-learn, since 2024\n",
    "\n",
    "#### contact\n",
    "https://github.com/StefanieSenger </br>\n",
    "\n",
    "https://www.linkedin.com/in/StefanieSenger </br>\n",
    "\n",
    "stefanie@probabl.ai </br>"
   ]
  },
  {
   "cell_type": "markdown",
   "metadata": {
    "slideshow": {
     "slide_type": "subslide"
    }
   },
   "source": [
    "### About :probabl.\n",
    "<img src=\"images/probabl_logo_orange.png\" alt=\"probabl_orange\" width=\"300\"/> <img src=\"images/probabl_logo_blue.png\" alt=\"probabl_blue\" width=\"100\"/>\n",
    "\n",
    "- company founded on behalf of many of the scikit-learn core contributors in late 2023\n",
    "\n",
    "- develop, sustain and maintain open source libraries in data science\n",
    "- provide solutions to problems in the data field while running, inspecting, validating and tracking models\n",
    "- services in the AI field (training, certification, expertise)"
   ]
  },
  {
   "cell_type": "markdown",
   "metadata": {
    "slideshow": {
     "slide_type": "slide"
    }
   },
   "source": [
    "### What mindset do you come with?"
   ]
  },
  {
   "cell_type": "markdown",
   "metadata": {
    "slideshow": {
     "slide_type": "fragment"
    }
   },
   "source": [
    "You come as a learner/explorer."
   ]
  },
  {
   "cell_type": "markdown",
   "metadata": {
    "slideshow": {
     "slide_type": "fragment"
    }
   },
   "source": [
    "Be prepared to do a lot of research and invest time.\n",
    "  - You try to find out what this issue is about.\n",
    "  - You can and should ask questions, but don't expect other contributors to guide you through the process end to end."
   ]
  },
  {
   "cell_type": "markdown",
   "metadata": {
    "slideshow": {
     "slide_type": "fragment"
    }
   },
   "source": [
    "Your contribution is a proposal. It will be discussed.\n",
    "  - Other than to work it also needs to fit some other design goals, that you might not be aware of when you start.\n",
    "  - You might be asked to make changes to your contribution before it's merged."
   ]
  },
  {
   "cell_type": "markdown",
   "metadata": {
    "slideshow": {
     "slide_type": "subslide"
    }
   },
   "source": [
    "### What mindset do you come with?\n",
    "\n",
    "#### Expectation management"
   ]
  },
  {
   "cell_type": "markdown",
   "metadata": {
    "slideshow": {
     "slide_type": "fragment"
    }
   },
   "source": [
    "- finding a project and an issue to work on: a few hours to a few days"
   ]
  },
  {
   "cell_type": "markdown",
   "metadata": {
    "slideshow": {
     "slide_type": "fragment"
    }
   },
   "source": [
    "- setting up the project on your computer: a few hours to a few days"
   ]
  },
  {
   "cell_type": "markdown",
   "metadata": {
    "slideshow": {
     "slide_type": "fragment"
    }
   },
   "source": [
    "- contributing your first simple issue: a few hours to a day"
   ]
  },
  {
   "cell_type": "markdown",
   "metadata": {
    "slideshow": {
     "slide_type": "fragment"
    }
   },
   "source": [
    "- getting your first issue reviewed and merged: several days to weeks"
   ]
  },
  {
   "cell_type": "markdown",
   "metadata": {
    "slideshow": {
     "slide_type": "slide"
    }
   },
   "source": [
    "### What to know before you start?"
   ]
  },
  {
   "cell_type": "markdown",
   "metadata": {
    "slideshow": {
     "slide_type": "fragment"
    }
   },
   "source": [
    "Nothing, really."
   ]
  },
  {
   "cell_type": "markdown",
   "metadata": {
    "slideshow": {
     "slide_type": "subslide"
    }
   },
   "source": [
    "### What to know before you start?\n",
    "#### Things you want to get into\n",
    "- GitHub account\n",
    "  - GitHub's [tutorial](https://docs.github.com/en/get-started/onboarding/getting-started-with-your-github-account) on creating an account\n",
    "- virtual environments\n",
    "  - conda\n",
    "  - pipenv\n",
    "  - pyenv\n",
    "- git\n",
    "  - great game to learn git: [OH MY GIT!](https://ohmygit.org/)\n",
    "- testing\n",
    "  - pytest\n",
    "- packaging\n",
    "  - great LinkedIn Learning course you can access for free: [Create an Open Source Project in Python](https://www.linkedin.com/learning/create-an-open-source-project-in-python/create-an-open-source-project-in-python?u=72605090)"
   ]
  },
  {
   "cell_type": "markdown",
   "metadata": {
    "slideshow": {
     "slide_type": "subslide"
    }
   },
   "source": [
    "### What to know before you start?\n",
    "\n",
    "#### Prepare your local repo\n",
    "\n",
    "1. create a fork of your open source project on your GitHub\n",
    "2. clone the fork to have it locally\n",
    "\n",
    "<img src=\"images/fork-and-clone.jpeg\" alt=\"fork_and_clone\" width=\"400\"/></br>\n",
    "\n",
    "source: https://happygitwithr.com/fork-and-clone.html"
   ]
  },
  {
   "cell_type": "markdown",
   "metadata": {
    "slideshow": {
     "slide_type": "subslide"
    }
   },
   "source": [
    "#### Sketch of general workflow\n",
    "\n",
    "3. make a new branch for your contribution\n",
    "4. edit on your branch\n",
    "5. commit to your branch\n",
    "6. push your commits to your remote branch in origin\n",
    "\n",
    "<img src=\"images/pull_request_model2.png\" alt=\"fork_and_clone\" width=\"500\"/></br>\n",
    "\n",
    "source: https://asoplata.com/publications/talks/20171117-git-intro/slides#/fork-and-pr-tutorial-2\n"
   ]
  },
  {
   "cell_type": "markdown",
   "metadata": {
    "slideshow": {
     "slide_type": "subslide"
    }
   },
   "source": [
    "#### Sketch of general workflow\n",
    "\n",
    "7. make a Pull Request (PR)\n",
    "    - push more changes to your branch during review process\n",
    "    - update your branch with the current status of the dev repo by pulling their \"main\" into your branch (`git pull`)\n",
    "    - CI will run some more checks\n",
    "8. be merged\n",
    "\n",
    "<img src=\"images/pull_request_model.jpeg\" alt=\"fork_and_clone\" width=\"400\"/></br>\n",
    "\n",
    "source: https://asoplata.com/publications/talks/20171117-git-intro/slides#/fork-and-pull-request-model-again"
   ]
  },
  {
   "cell_type": "markdown",
   "metadata": {
    "slideshow": {
     "slide_type": "subslide"
    }
   },
   "source": [
    "#### Sketch of general workflow\n",
    "\n",
    "- before creating a new local branch, you update your local main with the upstream main:</br>\n",
    "`git fetch upstream` </br>\n",
    "`git rebase upstream/main`\n",
    "\n",
    "<img src=\"images/pull_request_model.jpeg\" alt=\"fork_and_clone\" width=\"400\"/></br>\n",
    "\n",
    "source: https://asoplata.com/publications/talks/20171117-git-intro/slides#/fork-and-pull-request-model-again"
   ]
  },
  {
   "cell_type": "markdown",
   "metadata": {
    "slideshow": {
     "slide_type": "subslide"
    }
   },
   "source": [
    "### What to know before you start?\n",
    "#### Setting up the project\n",
    "\n",
    "- install the package in editable/development mode </br>\n",
    "  `pip install -e .`\n",
    "\n",
    "- build and re-build project (if it uses compiled languages) </br>\n",
    "  `setup.py build`\n",
    "\n",
    "- build documentation </br>\n",
    "  `sphinx-build -b html docs doc/_build/html`\n",
    "\n",
    "- these tasks are often automated in a Makefile or Meson script\n",
    "- refer to the contributing guide of your project for more details"
   ]
  },
  {
   "cell_type": "markdown",
   "metadata": {
    "slideshow": {
     "slide_type": "slide"
    }
   },
   "source": [
    "### How to actually start?\n"
   ]
  },
  {
   "cell_type": "markdown",
   "metadata": {
    "slideshow": {
     "slide_type": "fragment"
    }
   },
   "source": [
    "#### Find a project\n",
    "- a project you have worked with before\n",
    "  - libraries for Python, written mostly in Python: Django, matplitlib, pandas, FastAPI, TensorFlow, Keras, PyTorch, scikit-learn, Flask, AirFlow, scipy, numpy ..."
   ]
  },
  {
   "cell_type": "markdown",
   "metadata": {
    "slideshow": {
     "slide_type": "fragment"
    }
   },
   "source": [
    "- look out for projects that have a published contribution guide, such as:\n",
    "  - [Pandas Contributing Guide](https://pandas.pydata.org/docs/development/contributing.html)\n",
    "  - [Jupyter Contributing Guide](https://docs.jupyter.org/en/latest/contributing/content-contributor.html)\n",
    "  - [scikit-learn's Contributing Guide](https://scikit-learn.org/dev/developers/index.html)"
   ]
  },
  {
   "cell_type": "markdown",
   "metadata": {
    "slideshow": {
     "slide_type": "fragment"
    }
   },
   "source": [
    "- look out for sprints"
   ]
  },
  {
   "cell_type": "markdown",
   "metadata": {
    "slideshow": {
     "slide_type": "subslide"
    }
   },
   "source": [
    "### How to actually start?\n",
    "#### Open an issue\n",
    "- you make an issue\n",
    "  - (for beginners:) you find the documentation confusing and want to improve it\n",
    "  - (for pros:) you find an inconsistency when using a tool this library provides\n",
    "- you follow the discussion\n",
    "  - wait for a maintainer's assessment (triage)\n",
    "  - you might work on the issue yourself or closely watch the person that does"
   ]
  },
  {
   "cell_type": "markdown",
   "metadata": {
    "slideshow": {
     "slide_type": "subslide"
    }
   },
   "source": [
    "### How to actually start?\n",
    "#### Find an issue\n",
    "- find issues by label: `good first issue`, `easy`, `meta-issue`, `sprint`"
   ]
  },
  {
   "cell_type": "markdown",
   "metadata": {
    "slideshow": {
     "slide_type": "fragment"
    }
   },
   "source": [
    "- sort by \"recently updated\", look for many replies to find untagged meta-issues"
   ]
  },
  {
   "cell_type": "markdown",
   "metadata": {
    "slideshow": {
     "slide_type": "fragment"
    }
   },
   "source": [
    "- work on a stalled issue (but heat up the discussion before)"
   ]
  },
  {
   "cell_type": "markdown",
   "metadata": {
    "slideshow": {
     "slide_type": "fragment"
    }
   },
   "source": [
    "- concrete suggestions:\n",
    "  - scikit-learn [example links](https://github.com/scikit-learn/scikit-learn/issues/26927)\n",
    "  - scipy [examples in docstrings](https://github.com/scipy/scipy/issues/7168)"
   ]
  },
  {
   "cell_type": "markdown",
   "metadata": {
    "slideshow": {
     "slide_type": "subslide"
    }
   },
   "source": [
    "### How to actually start?\n",
    "#### Contribute something nobody has asked you for\n",
    "\n",
    "- contribute documentation to docstrings\n",
    "  - many projects use the same protocol: numpydoc extension for Sphinx: [numpydoc Style Guide](https://numpydoc.readthedocs.io/en/latest/format.html)\n",
    "  \n",
    "  - [pandas API](https://pandas.pydata.org/docs/reference/index.html#api)\n",
    "  - [Flask API](https://flask.palletsprojects.com/en/2.0.x/api/)\n",
    "  - [jupyter Widgets list](https://ipywidgets.readthedocs.io/en/latest/examples/Widget%20List.html)\n",
    "  - [scikit-learn API](https://scikit-learn.org/stable/modules/classes.html)"
   ]
  },
  {
   "cell_type": "markdown",
   "metadata": {
    "slideshow": {
     "slide_type": "fragment"
    }
   },
   "source": [
    "- write your own [jupyter widget](https://github.com/jupyter-widgets)\n",
    "  - creatively invent something useful\n",
    "  - get something to visually show off\n"
   ]
  },
  {
   "cell_type": "markdown",
   "metadata": {
    "slideshow": {
     "slide_type": "subslide"
    }
   },
   "source": [
    "### How to actually start?\n",
    "#### Contribute something nobody has asked you for\n",
    "\n",
    "- improve examples and user guide\n",
    "  - [scikit-learn examples](https://scikit-learn.org/stable/auto_examples/index.html)\n",
    "  - [scikit-learn user guide](https://scikit-learn.org/stable/user_guide.html)\n",
    "  - [pandas user guide](https://pandas.pydata.org/docs/user_guide/)"
   ]
  },
  {
   "cell_type": "markdown",
   "metadata": {},
   "source": [
    "- contribute tests"
   ]
  },
  {
   "cell_type": "markdown",
   "metadata": {
    "slideshow": {
     "slide_type": "fragment"
    }
   },
   "source": [
    "- solve #TODOs\n",
    "  - serve as reminders among contributors to revisit this part of the code\n",
    "    - for instance fulltext search (in VSCode `Ctrl`+`Shift`+`F`) for \"TODO add\" in pandas"
   ]
  },
  {
   "cell_type": "markdown",
   "metadata": {
    "slideshow": {
     "slide_type": "slide"
    }
   },
   "source": [
    "### What to do when you are stuck?\n",
    "- reach out to the community\n",
    "  - slack, discord, meetings\n",
    "- describe your problem by showing your code and error messages\n",
    "- if in doubt: make a draft PR"
   ]
  },
  {
   "cell_type": "markdown",
   "metadata": {
    "slideshow": {
     "slide_type": "slide"
    }
   },
   "source": [
    "### Thank you!\n",
    "\n",
    "Questions?\n",
    "\n",
    "#### You can also ask me later:\n",
    "https://github.com/StefanieSenger </br>\n",
    "\n",
    "https://www.linkedin.com/in/StefanieSenger </br>\n",
    "\n",
    "stefanie@probabl.ai </br>"
   ]
  }
 ],
 "metadata": {
  "celltoolbar": "Slideshow",
  "kernelspec": {
   "display_name": "Python 3 (ipykernel)",
   "language": "python",
   "name": "python3"
  },
  "language_info": {
   "codemirror_mode": {
    "name": "ipython",
    "version": 3
   },
   "file_extension": ".py",
   "mimetype": "text/x-python",
   "name": "python",
   "nbconvert_exporter": "python",
   "pygments_lexer": "ipython3",
   "version": "3.8.10"
  },
  "toc": {
   "base_numbering": 1,
   "nav_menu": {},
   "number_sections": true,
   "sideBar": true,
   "skip_h1_title": false,
   "title_cell": "Table of Contents",
   "title_sidebar": "Contents",
   "toc_cell": false,
   "toc_position": {},
   "toc_section_display": true,
   "toc_window_display": false
  }
 },
 "nbformat": 4,
 "nbformat_minor": 2
}
