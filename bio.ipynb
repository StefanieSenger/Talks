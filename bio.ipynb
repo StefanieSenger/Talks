{
 "cells": [
  {
   "cell_type": "markdown",
   "metadata": {},
   "source": [
    "## Stefanie Sabine Senger"
   ]
  },
  {
   "cell_type": "markdown",
   "metadata": {},
   "source": [
    "### bio\n",
    "\n",
    "- Wikipedia: Writer, Mentor, WikiWoman, 2011-2014\n",
    "- University of Potsdam: PhD in History on Solidarity Movements, 2021\n",
    "- LeWagon: Data Science Bootcamp and teaching there, 2022-2023\n",
    "- scikit-learn: internship, 2023\n",
    "- muffintech: Data Scientist, 2023\n",
    "- probabl: Open Source Developer working mainly on scikit-learn, since 2024"
   ]
  },
  {
   "cell_type": "markdown",
   "metadata": {},
   "source": [
    "### contact\n",
    "https://github.com/StefanieSenger </br>\n",
    "\n",
    "https://www.linkedin.com/in/StefanieSenger </br>\n",
    "\n",
    "stefanie@probabl.ai </br>"
   ]
  },
  {
   "cell_type": "markdown",
   "metadata": {},
   "source": []
  }
 ],
 "metadata": {
  "language_info": {
   "name": "python"
  }
 },
 "nbformat": 4,
 "nbformat_minor": 2
}
