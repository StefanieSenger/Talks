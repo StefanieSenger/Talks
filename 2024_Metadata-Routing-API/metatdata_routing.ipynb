{
 "cells": [
  {
   "cell_type": "markdown",
   "metadata": {},
   "source": [
    "# \"Scikit-learn's Metadata Routing API\""
   ]
  },
  {
   "cell_type": "markdown",
   "metadata": {},
   "source": [
    "### 1. What is Metadata?\n",
    "\n",
    "- definition of metadata:\n",
    "    - metadata can be any data, that we want to apply on top of our tabular data, without it necessarily being part of it\n",
    "    - alternative: metadata is any data, that some object or function in a data science \"pipeline/process\" handles besides from X and y; it's a param that influences this \"step's\" treatment of the data\n",
    "\n",
    "- examples for metadata:\n",
    "    - classical examples you might know from scikit-learn: sample_weight and groups\n",
    "    - but other libraries offer support for other kinds of metadata\n",
    "    - (graphically show some other examples of metadata: gender, race, sex, zipcode, .... and area/library it is used in)\n",
    "    - self defined metadata to be used in custom metrics (and possibly custom estimators)\n",
    "\n",
    "- use cases for metadata:\n",
    "    - sample_weight and groups can be used to balance data out and prevent data leakage\n",
    "    - fairness related use case\n",
    "    - business logic\n",
    "\n",
    "- definition of routing:\n",
    "    - routing just means that we pass metadata around (or through uninvolved steps) in a data science pipeline/process to where it is used/consumed\n",
    "\n",
    "- before metadata routing API:\n",
    "    - we were limited to where sample_weight was defined because it was the only param defined in the metrics (other than y_true and y_pred)\n",
    "    - we could not consistently use it if we were using the metric in a larger structure\n",
    "\n",
    "- with metadata routing API:\n",
    "    - we can pass sample_weight and groups through several levels of estimators and pipes in scikit-learn\n",
    "    - we can combine objects from other libraries with scikit-learn estimators while still passing their metadata\n",
    "    - we can define our own custom metrics using self defined metadata (as we will see in the next part)\n"
   ]
  },
  {
   "cell_type": "markdown",
   "metadata": {},
   "source": [
    "\n",
    "### 2. Passing metadata without the routing API\n",
    "- very short code example to have people see the problem\n",
    "\n",
    "- https://lms.fun-mooc.fr/courses/course-v1:inria+41026+session04/courseware/cb3cfcaf0cae4cf7801c4e8d5dab9087/da37206baa8d4426b93124368fabaf1e/\n",
    "\n",
    "- here groups corresponds to a writer of digits, since the same writer should not be both in the train and in the test set\n",
    "    - before we had to do a groupKFold\n",
    "    - but what if you also have sample_weights? --> no way to pass it as well"
   ]
  },
  {
   "cell_type": "markdown",
   "metadata": {},
   "source": [
    "\n",
    "### 3. Using the metadata routing API\n",
    "\n",
    "- example: medical use case? \n",
    "    - groups correspond to hospital (we suspect that each hospital’s data may have systematic biases due to factors like medical devices, policies, socioeconomic status of the patients, ...)\n",
    "    - sample_weight encodes zip-code or race of the patient\n",
    "    - we are interested in a fair model to determine a recommendation for a treatment among several options (classification problem)\n",
    "\n",
    "    - sample_weights either given by experts\n",
    "    - or derived from the data to even out unfairness\n",
    "    - or derived from some other process stemming from the moment when initializing that sample\n",
    "\n",
    "- boilerplate in a very short example\n",
    "    - weighted scoring and fitting example from documentation: https://scikit-learn.org/stable/metadata_routing.html#metadata-routing\n",
    "\n",
    "- scorer take sample weight (scoring= param is only present in estimators ending in CV); the scoring then passes the metadata into the metric used in cross validation for evaluating the success with the internal validation set\n",
    "- slitter splits CV and is mainly interested in groups\n",
    "\n",
    "- set stage for TunedThresholdClassifier:\n",
    "    - TunedThresholdClassifier scales threshold for metrics and with metadata routing we can define our own scoring metrics that also consume metadata (https://scikit-learn.org/dev/auto_examples/model_selection/plot_cost_sensitive_learning.html#cost-sensitive-learning-when-gains-and-costs-are-not-constant)"
   ]
  },
  {
   "cell_type": "code",
   "execution_count": 2,
   "metadata": {},
   "outputs": [],
   "source": [
    "import sklearn\n",
    "sklearn.set_config(enable_metadata_routing=True)\n"
   ]
  },
  {
   "cell_type": "markdown",
   "metadata": {},
   "source": [
    "### 4. Further information\n",
    "\n",
    "- User Guide on Metadata Routing: </br> \n",
    "[https://scikit-learn.org/stable/metadata_routing.html#metadata-routing](https://scikit-learn.org/stable/metadata_routing.html#metadata-routing)\n",
    "\n",
    "- Developer Guide on Metadata Routing: </br> \n",
    "[https://scikit-learn.org/stable/auto_examples/miscellaneous/plot_metadata_routing.html#metadata-routing](https://scikit-learn.org/stable/auto_examples/miscellaneous/plot_metadata_routing.html#metadata-routing)\n",
    "\n",
    "- Adrin Jalali's talk on the internal logic of metadata routing at EuroPython Conference 2023: </br> \n",
    "[https://www.youtube.com/watch?v=1rf6HI-pYq8](https://www.youtube.com/watch?v=1rf6HI-pYq8)"
   ]
  }
 ],
 "metadata": {
  "kernelspec": {
   "display_name": "Python 3",
   "language": "python",
   "name": "python3"
  },
  "language_info": {
   "codemirror_mode": {
    "name": "ipython",
    "version": 3
   },
   "file_extension": ".py",
   "mimetype": "text/x-python",
   "name": "python",
   "nbconvert_exporter": "python",
   "pygments_lexer": "ipython3",
   "version": "3.12.2"
  }
 },
 "nbformat": 4,
 "nbformat_minor": 2
}
